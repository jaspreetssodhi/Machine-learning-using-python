{
 "cells": [
  {
   "cell_type": "code",
   "execution_count": 1,
   "metadata": {},
   "outputs": [],
   "source": [
    "import numpy as np\n",
    "import pandas as pd"
   ]
  },
  {
   "cell_type": "code",
   "execution_count": 2,
   "metadata": {},
   "outputs": [
    {
     "name": "stderr",
     "output_type": "stream",
     "text": [
      "C:\\Users\\dell\\Anaconda3\\lib\\site-packages\\ipykernel_launcher.py:2: ParserWarning: Falling back to the 'python' engine because the 'c' engine does not support regex separators (separators > 1 char and different from '\\s+' are interpreted as regex); you can avoid this warning by specifying engine='python'.\n",
      "  \n",
      "C:\\Users\\dell\\Anaconda3\\lib\\site-packages\\ipykernel_launcher.py:3: ParserWarning: Falling back to the 'python' engine because the 'c' engine does not support regex separators (separators > 1 char and different from '\\s+' are interpreted as regex); you can avoid this warning by specifying engine='python'.\n",
      "  This is separate from the ipykernel package so we can avoid doing imports until\n"
     ]
    }
   ],
   "source": [
    "#imported movies and ratings data\n",
    "movies = pd.read_csv('movies.dat', sep = '::', header = None )\n",
    "ratings = pd.read_csv('ratings.dat', sep = '::',header = None )"
   ]
  },
  {
   "cell_type": "code",
   "execution_count": 3,
   "metadata": {},
   "outputs": [
    {
     "data": {
      "text/plain": [
       "((3883, 3), (1000209, 4))"
      ]
     },
     "execution_count": 3,
     "metadata": {},
     "output_type": "execute_result"
    }
   ],
   "source": [
    "movies.shape, ratings.shape"
   ]
  },
  {
   "cell_type": "code",
   "execution_count": 4,
   "metadata": {},
   "outputs": [],
   "source": [
    "#naming the columns of each table\n",
    "ratings.columns = ['User_id', 'Movie_id', 'Ratings', 'Timestamp']\n",
    "movies.columns = ['Movie_id', 'Title', 'Genre']"
   ]
  },
  {
   "cell_type": "code",
   "execution_count": 5,
   "metadata": {},
   "outputs": [],
   "source": [
    "#splitting the genre of movies table into 6 parts\n",
    "category  =[]\n",
    "for i in range(len(movies['Genre'])):\n",
    "    category.append(movies['Genre'][i].split('|'))\n",
    "    \n",
    "category = pd.DataFrame(category)"
   ]
  },
  {
   "cell_type": "code",
   "execution_count": 6,
   "metadata": {},
   "outputs": [],
   "source": [
    "category.columns = ['category 1','category 2', 'category 3','category 4','category 5','category 6']"
   ]
  },
  {
   "cell_type": "code",
   "execution_count": 7,
   "metadata": {},
   "outputs": [],
   "source": [
    "#keeping only first 2 genre to to main movies table\n",
    "movies['category 1'] = category['category 1']\n",
    "movies['category 2'] = category['category 2']"
   ]
  },
  {
   "cell_type": "code",
   "execution_count": 8,
   "metadata": {},
   "outputs": [
    {
     "data": {
      "text/html": [
       "<div>\n",
       "<style scoped>\n",
       "    .dataframe tbody tr th:only-of-type {\n",
       "        vertical-align: middle;\n",
       "    }\n",
       "\n",
       "    .dataframe tbody tr th {\n",
       "        vertical-align: top;\n",
       "    }\n",
       "\n",
       "    .dataframe thead th {\n",
       "        text-align: right;\n",
       "    }\n",
       "</style>\n",
       "<table border=\"1\" class=\"dataframe\">\n",
       "  <thead>\n",
       "    <tr style=\"text-align: right;\">\n",
       "      <th></th>\n",
       "      <th>Movie_id</th>\n",
       "      <th>Title</th>\n",
       "      <th>Genre</th>\n",
       "      <th>category 1</th>\n",
       "      <th>category 2</th>\n",
       "    </tr>\n",
       "  </thead>\n",
       "  <tbody>\n",
       "    <tr>\n",
       "      <th>0</th>\n",
       "      <td>1</td>\n",
       "      <td>Toy Story (1995)</td>\n",
       "      <td>Animation|Children's|Comedy</td>\n",
       "      <td>Animation</td>\n",
       "      <td>Children's</td>\n",
       "    </tr>\n",
       "    <tr>\n",
       "      <th>1</th>\n",
       "      <td>2</td>\n",
       "      <td>Jumanji (1995)</td>\n",
       "      <td>Adventure|Children's|Fantasy</td>\n",
       "      <td>Adventure</td>\n",
       "      <td>Children's</td>\n",
       "    </tr>\n",
       "    <tr>\n",
       "      <th>2</th>\n",
       "      <td>3</td>\n",
       "      <td>Grumpier Old Men (1995)</td>\n",
       "      <td>Comedy|Romance</td>\n",
       "      <td>Comedy</td>\n",
       "      <td>Romance</td>\n",
       "    </tr>\n",
       "    <tr>\n",
       "      <th>3</th>\n",
       "      <td>4</td>\n",
       "      <td>Waiting to Exhale (1995)</td>\n",
       "      <td>Comedy|Drama</td>\n",
       "      <td>Comedy</td>\n",
       "      <td>Drama</td>\n",
       "    </tr>\n",
       "    <tr>\n",
       "      <th>4</th>\n",
       "      <td>5</td>\n",
       "      <td>Father of the Bride Part II (1995)</td>\n",
       "      <td>Comedy</td>\n",
       "      <td>Comedy</td>\n",
       "      <td>None</td>\n",
       "    </tr>\n",
       "  </tbody>\n",
       "</table>\n",
       "</div>"
      ],
      "text/plain": [
       "   Movie_id                               Title                         Genre  \\\n",
       "0         1                    Toy Story (1995)   Animation|Children's|Comedy   \n",
       "1         2                      Jumanji (1995)  Adventure|Children's|Fantasy   \n",
       "2         3             Grumpier Old Men (1995)                Comedy|Romance   \n",
       "3         4            Waiting to Exhale (1995)                  Comedy|Drama   \n",
       "4         5  Father of the Bride Part II (1995)                        Comedy   \n",
       "\n",
       "  category 1  category 2  \n",
       "0  Animation  Children's  \n",
       "1  Adventure  Children's  \n",
       "2     Comedy     Romance  \n",
       "3     Comedy       Drama  \n",
       "4     Comedy        None  "
      ]
     },
     "execution_count": 8,
     "metadata": {},
     "output_type": "execute_result"
    }
   ],
   "source": [
    "movies.head()"
   ]
  },
  {
   "cell_type": "code",
   "execution_count": 9,
   "metadata": {},
   "outputs": [],
   "source": [
    "#removing genre column\n",
    "movies.drop('Genre', inplace=True, axis =1)"
   ]
  },
  {
   "cell_type": "code",
   "execution_count": 10,
   "metadata": {},
   "outputs": [
    {
     "data": {
      "text/html": [
       "<div>\n",
       "<style scoped>\n",
       "    .dataframe tbody tr th:only-of-type {\n",
       "        vertical-align: middle;\n",
       "    }\n",
       "\n",
       "    .dataframe tbody tr th {\n",
       "        vertical-align: top;\n",
       "    }\n",
       "\n",
       "    .dataframe thead th {\n",
       "        text-align: right;\n",
       "    }\n",
       "</style>\n",
       "<table border=\"1\" class=\"dataframe\">\n",
       "  <thead>\n",
       "    <tr style=\"text-align: right;\">\n",
       "      <th></th>\n",
       "      <th>Movie_id</th>\n",
       "      <th>Title</th>\n",
       "      <th>category 1</th>\n",
       "      <th>category 2</th>\n",
       "    </tr>\n",
       "  </thead>\n",
       "  <tbody>\n",
       "    <tr>\n",
       "      <th>0</th>\n",
       "      <td>1</td>\n",
       "      <td>Toy Story (1995)</td>\n",
       "      <td>Animation</td>\n",
       "      <td>Children's</td>\n",
       "    </tr>\n",
       "    <tr>\n",
       "      <th>1</th>\n",
       "      <td>2</td>\n",
       "      <td>Jumanji (1995)</td>\n",
       "      <td>Adventure</td>\n",
       "      <td>Children's</td>\n",
       "    </tr>\n",
       "    <tr>\n",
       "      <th>2</th>\n",
       "      <td>3</td>\n",
       "      <td>Grumpier Old Men (1995)</td>\n",
       "      <td>Comedy</td>\n",
       "      <td>Romance</td>\n",
       "    </tr>\n",
       "    <tr>\n",
       "      <th>3</th>\n",
       "      <td>4</td>\n",
       "      <td>Waiting to Exhale (1995)</td>\n",
       "      <td>Comedy</td>\n",
       "      <td>Drama</td>\n",
       "    </tr>\n",
       "    <tr>\n",
       "      <th>4</th>\n",
       "      <td>5</td>\n",
       "      <td>Father of the Bride Part II (1995)</td>\n",
       "      <td>Comedy</td>\n",
       "      <td>None</td>\n",
       "    </tr>\n",
       "  </tbody>\n",
       "</table>\n",
       "</div>"
      ],
      "text/plain": [
       "   Movie_id                               Title category 1  category 2\n",
       "0         1                    Toy Story (1995)  Animation  Children's\n",
       "1         2                      Jumanji (1995)  Adventure  Children's\n",
       "2         3             Grumpier Old Men (1995)     Comedy     Romance\n",
       "3         4            Waiting to Exhale (1995)     Comedy       Drama\n",
       "4         5  Father of the Bride Part II (1995)     Comedy        None"
      ]
     },
     "execution_count": 10,
     "metadata": {},
     "output_type": "execute_result"
    }
   ],
   "source": [
    "movies.head()"
   ]
  },
  {
   "cell_type": "code",
   "execution_count": 11,
   "metadata": {},
   "outputs": [],
   "source": [
    "#grouping data of ratings on the basis of user ids\n",
    "data = ratings.groupby('User_id')"
   ]
  },
  {
   "cell_type": "code",
   "execution_count": 12,
   "metadata": {},
   "outputs": [],
   "source": [
    "#extracting the data of 1st user\n",
    "user_1 = data.get_group(1)"
   ]
  },
  {
   "cell_type": "code",
   "execution_count": 13,
   "metadata": {},
   "outputs": [
    {
     "data": {
      "text/plain": [
       "(53, 4)"
      ]
     },
     "execution_count": 13,
     "metadata": {},
     "output_type": "execute_result"
    }
   ],
   "source": [
    "user_1.shape"
   ]
  },
  {
   "cell_type": "code",
   "execution_count": 14,
   "metadata": {},
   "outputs": [],
   "source": [
    "#list if movies id watched by the extracted user\n",
    "umid = user_1['Movie_id'].tolist()"
   ]
  },
  {
   "cell_type": "code",
   "execution_count": 15,
   "metadata": {},
   "outputs": [
    {
     "data": {
      "text/plain": [
       "53"
      ]
     },
     "execution_count": 15,
     "metadata": {},
     "output_type": "execute_result"
    }
   ],
   "source": [
    "len(umid)"
   ]
  },
  {
   "cell_type": "code",
   "execution_count": 16,
   "metadata": {},
   "outputs": [],
   "source": [
    "#taking list of movies which got rating greater than 3\n",
    "good_rate = user_1[user_1['Ratings']>3]"
   ]
  },
  {
   "cell_type": "code",
   "execution_count": 17,
   "metadata": {},
   "outputs": [
    {
     "data": {
      "text/html": [
       "<div>\n",
       "<style scoped>\n",
       "    .dataframe tbody tr th:only-of-type {\n",
       "        vertical-align: middle;\n",
       "    }\n",
       "\n",
       "    .dataframe tbody tr th {\n",
       "        vertical-align: top;\n",
       "    }\n",
       "\n",
       "    .dataframe thead th {\n",
       "        text-align: right;\n",
       "    }\n",
       "</style>\n",
       "<table border=\"1\" class=\"dataframe\">\n",
       "  <thead>\n",
       "    <tr style=\"text-align: right;\">\n",
       "      <th></th>\n",
       "      <th>User_id</th>\n",
       "      <th>Movie_id</th>\n",
       "      <th>Ratings</th>\n",
       "      <th>Timestamp</th>\n",
       "    </tr>\n",
       "  </thead>\n",
       "  <tbody>\n",
       "    <tr>\n",
       "      <th>0</th>\n",
       "      <td>1</td>\n",
       "      <td>1193</td>\n",
       "      <td>5</td>\n",
       "      <td>978300760</td>\n",
       "    </tr>\n",
       "    <tr>\n",
       "      <th>3</th>\n",
       "      <td>1</td>\n",
       "      <td>3408</td>\n",
       "      <td>4</td>\n",
       "      <td>978300275</td>\n",
       "    </tr>\n",
       "    <tr>\n",
       "      <th>4</th>\n",
       "      <td>1</td>\n",
       "      <td>2355</td>\n",
       "      <td>5</td>\n",
       "      <td>978824291</td>\n",
       "    </tr>\n",
       "    <tr>\n",
       "      <th>6</th>\n",
       "      <td>1</td>\n",
       "      <td>1287</td>\n",
       "      <td>5</td>\n",
       "      <td>978302039</td>\n",
       "    </tr>\n",
       "    <tr>\n",
       "      <th>7</th>\n",
       "      <td>1</td>\n",
       "      <td>2804</td>\n",
       "      <td>5</td>\n",
       "      <td>978300719</td>\n",
       "    </tr>\n",
       "  </tbody>\n",
       "</table>\n",
       "</div>"
      ],
      "text/plain": [
       "   User_id  Movie_id  Ratings  Timestamp\n",
       "0        1      1193        5  978300760\n",
       "3        1      3408        4  978300275\n",
       "4        1      2355        5  978824291\n",
       "6        1      1287        5  978302039\n",
       "7        1      2804        5  978300719"
      ]
     },
     "execution_count": 17,
     "metadata": {},
     "output_type": "execute_result"
    }
   ],
   "source": [
    "good_rate.head()"
   ]
  },
  {
   "cell_type": "code",
   "execution_count": 18,
   "metadata": {},
   "outputs": [
    {
     "data": {
      "text/html": [
       "<div>\n",
       "<style scoped>\n",
       "    .dataframe tbody tr th:only-of-type {\n",
       "        vertical-align: middle;\n",
       "    }\n",
       "\n",
       "    .dataframe tbody tr th {\n",
       "        vertical-align: top;\n",
       "    }\n",
       "\n",
       "    .dataframe thead th {\n",
       "        text-align: right;\n",
       "    }\n",
       "</style>\n",
       "<table border=\"1\" class=\"dataframe\">\n",
       "  <thead>\n",
       "    <tr style=\"text-align: right;\">\n",
       "      <th></th>\n",
       "      <th>Movie_id</th>\n",
       "      <th>Title</th>\n",
       "      <th>category 1</th>\n",
       "      <th>category 2</th>\n",
       "      <th>User_id</th>\n",
       "      <th>Ratings</th>\n",
       "      <th>Timestamp</th>\n",
       "    </tr>\n",
       "  </thead>\n",
       "  <tbody>\n",
       "    <tr>\n",
       "      <th>0</th>\n",
       "      <td>1</td>\n",
       "      <td>Toy Story (1995)</td>\n",
       "      <td>Animation</td>\n",
       "      <td>Children's</td>\n",
       "      <td>1</td>\n",
       "      <td>5</td>\n",
       "      <td>978824268</td>\n",
       "    </tr>\n",
       "    <tr>\n",
       "      <th>1</th>\n",
       "      <td>48</td>\n",
       "      <td>Pocahontas (1995)</td>\n",
       "      <td>Animation</td>\n",
       "      <td>Children's</td>\n",
       "      <td>1</td>\n",
       "      <td>5</td>\n",
       "      <td>978824351</td>\n",
       "    </tr>\n",
       "    <tr>\n",
       "      <th>2</th>\n",
       "      <td>150</td>\n",
       "      <td>Apollo 13 (1995)</td>\n",
       "      <td>Drama</td>\n",
       "      <td>None</td>\n",
       "      <td>1</td>\n",
       "      <td>5</td>\n",
       "      <td>978301777</td>\n",
       "    </tr>\n",
       "    <tr>\n",
       "      <th>3</th>\n",
       "      <td>260</td>\n",
       "      <td>Star Wars: Episode IV - A New Hope (1977)</td>\n",
       "      <td>Action</td>\n",
       "      <td>Adventure</td>\n",
       "      <td>1</td>\n",
       "      <td>4</td>\n",
       "      <td>978300760</td>\n",
       "    </tr>\n",
       "    <tr>\n",
       "      <th>4</th>\n",
       "      <td>527</td>\n",
       "      <td>Schindler's List (1993)</td>\n",
       "      <td>Drama</td>\n",
       "      <td>War</td>\n",
       "      <td>1</td>\n",
       "      <td>5</td>\n",
       "      <td>978824195</td>\n",
       "    </tr>\n",
       "  </tbody>\n",
       "</table>\n",
       "</div>"
      ],
      "text/plain": [
       "   Movie_id                                      Title category 1  category 2  \\\n",
       "0         1                           Toy Story (1995)  Animation  Children's   \n",
       "1        48                          Pocahontas (1995)  Animation  Children's   \n",
       "2       150                           Apollo 13 (1995)      Drama        None   \n",
       "3       260  Star Wars: Episode IV - A New Hope (1977)     Action   Adventure   \n",
       "4       527                    Schindler's List (1993)      Drama         War   \n",
       "\n",
       "   User_id  Ratings  Timestamp  \n",
       "0        1        5  978824268  \n",
       "1        1        5  978824351  \n",
       "2        1        5  978301777  \n",
       "3        1        4  978300760  \n",
       "4        1        5  978824195  "
      ]
     },
     "execution_count": 18,
     "metadata": {},
     "output_type": "execute_result"
    }
   ],
   "source": [
    "#merging two tables to find out complete data of movies watched by the extracted user which rating above 3\n",
    "data = pd.merge(movies, good_rate, on='Movie_id') \n",
    "data.head()"
   ]
  },
  {
   "cell_type": "code",
   "execution_count": 19,
   "metadata": {},
   "outputs": [],
   "source": [
    "c1 = pd.DataFrame(data['category 1'])\n",
    "c2 = pd.DataFrame(data['category 2'])\n",
    "c1.columns = ['genre']\n",
    "c2.columns = ['genre']"
   ]
  },
  {
   "cell_type": "code",
   "execution_count": 20,
   "metadata": {},
   "outputs": [],
   "source": [
    "#finding the unique genre watche dthe user\n",
    "genre = pd.concat([c1,c2], ignore_index = True)"
   ]
  },
  {
   "cell_type": "code",
   "execution_count": 21,
   "metadata": {},
   "outputs": [
    {
     "data": {
      "text/html": [
       "<div>\n",
       "<style scoped>\n",
       "    .dataframe tbody tr th:only-of-type {\n",
       "        vertical-align: middle;\n",
       "    }\n",
       "\n",
       "    .dataframe tbody tr th {\n",
       "        vertical-align: top;\n",
       "    }\n",
       "\n",
       "    .dataframe thead th {\n",
       "        text-align: right;\n",
       "    }\n",
       "</style>\n",
       "<table border=\"1\" class=\"dataframe\">\n",
       "  <thead>\n",
       "    <tr style=\"text-align: right;\">\n",
       "      <th></th>\n",
       "      <th>genre</th>\n",
       "    </tr>\n",
       "  </thead>\n",
       "  <tbody>\n",
       "    <tr>\n",
       "      <th>0</th>\n",
       "      <td>Animation</td>\n",
       "    </tr>\n",
       "    <tr>\n",
       "      <th>1</th>\n",
       "      <td>Animation</td>\n",
       "    </tr>\n",
       "    <tr>\n",
       "      <th>2</th>\n",
       "      <td>Drama</td>\n",
       "    </tr>\n",
       "    <tr>\n",
       "      <th>3</th>\n",
       "      <td>Action</td>\n",
       "    </tr>\n",
       "    <tr>\n",
       "      <th>4</th>\n",
       "      <td>Drama</td>\n",
       "    </tr>\n",
       "  </tbody>\n",
       "</table>\n",
       "</div>"
      ],
      "text/plain": [
       "       genre\n",
       "0  Animation\n",
       "1  Animation\n",
       "2      Drama\n",
       "3     Action\n",
       "4      Drama"
      ]
     },
     "execution_count": 21,
     "metadata": {},
     "output_type": "execute_result"
    }
   ],
   "source": [
    "genre.head()"
   ]
  },
  {
   "cell_type": "code",
   "execution_count": 22,
   "metadata": {},
   "outputs": [
    {
     "data": {
      "text/plain": [
       "Drama         19\n",
       "Children's    17\n",
       "Animation     14\n",
       "Comedy         6\n",
       "Action         4\n",
       "Adventure      4\n",
       "Musical        2\n",
       "Crime          2\n",
       "Thriller       1\n",
       "Fantasy        1\n",
       "War            1\n",
       "Sci-Fi         1\n",
       "Romance        1\n",
       "Name: genre, dtype: int64"
      ]
     },
     "execution_count": 22,
     "metadata": {},
     "output_type": "execute_result"
    }
   ],
   "source": [
    "#finding count of how many times the user has watched each genre\n",
    "genre_count = pd.value_counts(genre['genre'])\n",
    "genre_count"
   ]
  },
  {
   "cell_type": "code",
   "execution_count": 23,
   "metadata": {},
   "outputs": [
    {
     "data": {
      "text/plain": [
       "('Drama', 19)"
      ]
     },
     "execution_count": 23,
     "metadata": {},
     "output_type": "execute_result"
    }
   ],
   "source": [
    "#most watched genre\n",
    "top_genre= max(genre_count.items(), key = lambda x: x[1])\n",
    "top_genre"
   ]
  },
  {
   "cell_type": "code",
   "execution_count": 24,
   "metadata": {},
   "outputs": [],
   "source": [
    "#data of rating table of ratings above 3\n",
    "top_rated = ratings[(ratings['Ratings'] == 4) | (ratings['Ratings'] == 5)]"
   ]
  },
  {
   "cell_type": "code",
   "execution_count": 25,
   "metadata": {},
   "outputs": [],
   "source": [
    "#data of all movie of most watched genre\n",
    "recMovies = movies[(movies['category 1'] == top_genre[0]) | (movies['category 2'] == top_genre[0])]"
   ]
  },
  {
   "cell_type": "code",
   "execution_count": 26,
   "metadata": {},
   "outputs": [],
   "source": [
    "# dataset = pd.merge(recMovies, top_rated, on='Movie_id') \n",
    "# dataset.head()"
   ]
  },
  {
   "cell_type": "code",
   "execution_count": 27,
   "metadata": {},
   "outputs": [],
   "source": [
    "#mid1 = dataset['Movie_id']"
   ]
  },
  {
   "cell_type": "code",
   "execution_count": 28,
   "metadata": {},
   "outputs": [],
   "source": [
    "#mid = mid1.drop_duplicates().tolist()"
   ]
  },
  {
   "cell_type": "code",
   "execution_count": 29,
   "metadata": {},
   "outputs": [],
   "source": [
    "#len(mid)"
   ]
  },
  {
   "cell_type": "code",
   "execution_count": 30,
   "metadata": {},
   "outputs": [],
   "source": [
    "# dataset = pd.merge(recMovies, top_rated, on='Movie_id') \n",
    "# dataset.head()"
   ]
  },
  {
   "cell_type": "code",
   "execution_count": 31,
   "metadata": {},
   "outputs": [],
   "source": [
    "# dataset = dataset.drop_duplicates(subset='Movie_id',)\n",
    "# dataset['Title'].head()"
   ]
  },
  {
   "cell_type": "code",
   "execution_count": 32,
   "metadata": {},
   "outputs": [],
   "source": [
    "# dataset.shape"
   ]
  },
  {
   "cell_type": "code",
   "execution_count": 33,
   "metadata": {},
   "outputs": [],
   "source": [
    "# dataset.head()"
   ]
  },
  {
   "cell_type": "code",
   "execution_count": 34,
   "metadata": {},
   "outputs": [],
   "source": [
    "# recc = {'movie_id':[],'Movie_Name':[]}\n",
    "# for i in range(len(dataset['Movie_id'])):\n",
    "#     for j in range(len(data_1['Movie_id'])):\n",
    "#         if dataset['Movie_id'].iloc[i] != data_1['Movie_id'].iloc[j]:\n",
    "#             recc['movie_id'].append(recMovies['Movie_id'].iloc[i])\n",
    "#             recc['Movie_Name'].append(recMovies['Title'].iloc[i])\n",
    "#             #recc['Movie_Rating'].append(dataset['Ratings'].iloc[j])\n",
    "#             #,'Movie_Rating':[]"
   ]
  },
  {
   "cell_type": "code",
   "execution_count": 35,
   "metadata": {},
   "outputs": [],
   "source": [
    "# recc = pd.DataFrame(recc)"
   ]
  },
  {
   "cell_type": "code",
   "execution_count": 36,
   "metadata": {},
   "outputs": [],
   "source": [
    "# recc = recc.drop_duplicates(subset='movie_id')\n"
   ]
  },
  {
   "cell_type": "code",
   "execution_count": 37,
   "metadata": {},
   "outputs": [],
   "source": [
    "# recc.shape"
   ]
  },
  {
   "cell_type": "code",
   "execution_count": 38,
   "metadata": {},
   "outputs": [],
   "source": [
    "# recc.head()"
   ]
  },
  {
   "cell_type": "code",
   "execution_count": 39,
   "metadata": {},
   "outputs": [],
   "source": [
    "# Program to measure similarity between \n",
    "# two sentences using cosine similarity. \n",
    "# from nltk.corpus import stopwords \n",
    "# from nltk.tokenize import word_tokenize \n",
    "\n",
    "# X = input(\"Enter first string: \").lower() \n",
    "# Y = input(\"Enter second string: \").lower() \n",
    "# # X =\"I love horror movies\"\n",
    "# # Y =\"Lights out is a horror movie\"\n",
    "\n",
    "# # tokenization \n",
    "# X_list = word_tokenize(X) \n",
    "# Y_list = word_tokenize(Y) \n",
    "\n",
    "# # sw contains the list of stopwords \n",
    "# sw = stopwords.words('english') \n",
    "# l1 =[];l2 =[] \n",
    "\n",
    "# # remove stop words from string \n",
    "# X_set = {w for w in X_list if not w in sw} \n",
    "# Y_set = {w for w in Y_list if not w in sw} \n",
    "\n",
    "# # form a set containing keywords of both strings \n",
    "# rvector = X_set.union(Y_set) \n",
    "# for w in rvector: \n",
    "# \tif w in X_set: l1.append(1) # create a vector \n",
    "# \telse: l1.append(0) \n",
    "# \tif w in Y_set: l2.append(1) \n",
    "# \telse: l2.append(0) \n",
    "# c = 0\n",
    "\n",
    "# # cosine formula \n",
    "# for i in range(len(rvector)): \n",
    "# \t\tc+= l1[i]*l2[i] \n",
    "# cosine = c / float((sum(l1)*sum(l2))**0.5) \n",
    "# print(\"similarity: \", cosine) \n"
   ]
  },
  {
   "cell_type": "code",
   "execution_count": 40,
   "metadata": {},
   "outputs": [
    {
     "data": {
      "text/html": [
       "<div>\n",
       "<style scoped>\n",
       "    .dataframe tbody tr th:only-of-type {\n",
       "        vertical-align: middle;\n",
       "    }\n",
       "\n",
       "    .dataframe tbody tr th {\n",
       "        vertical-align: top;\n",
       "    }\n",
       "\n",
       "    .dataframe thead th {\n",
       "        text-align: right;\n",
       "    }\n",
       "</style>\n",
       "<table border=\"1\" class=\"dataframe\">\n",
       "  <thead>\n",
       "    <tr style=\"text-align: right;\">\n",
       "      <th></th>\n",
       "      <th>Movie_id</th>\n",
       "      <th>Title</th>\n",
       "      <th>category 1</th>\n",
       "      <th>category 2</th>\n",
       "      <th>User_id</th>\n",
       "      <th>Ratings</th>\n",
       "      <th>Timestamp</th>\n",
       "    </tr>\n",
       "  </thead>\n",
       "  <tbody>\n",
       "    <tr>\n",
       "      <th>0</th>\n",
       "      <td>4</td>\n",
       "      <td>Waiting to Exhale (1995)</td>\n",
       "      <td>Comedy</td>\n",
       "      <td>Drama</td>\n",
       "      <td>187</td>\n",
       "      <td>4</td>\n",
       "      <td>977078862</td>\n",
       "    </tr>\n",
       "    <tr>\n",
       "      <th>1</th>\n",
       "      <td>4</td>\n",
       "      <td>Waiting to Exhale (1995)</td>\n",
       "      <td>Comedy</td>\n",
       "      <td>Drama</td>\n",
       "      <td>476</td>\n",
       "      <td>5</td>\n",
       "      <td>976223366</td>\n",
       "    </tr>\n",
       "    <tr>\n",
       "      <th>2</th>\n",
       "      <td>4</td>\n",
       "      <td>Waiting to Exhale (1995)</td>\n",
       "      <td>Comedy</td>\n",
       "      <td>Drama</td>\n",
       "      <td>528</td>\n",
       "      <td>4</td>\n",
       "      <td>980039670</td>\n",
       "    </tr>\n",
       "    <tr>\n",
       "      <th>3</th>\n",
       "      <td>4</td>\n",
       "      <td>Waiting to Exhale (1995)</td>\n",
       "      <td>Comedy</td>\n",
       "      <td>Drama</td>\n",
       "      <td>601</td>\n",
       "      <td>4</td>\n",
       "      <td>975881747</td>\n",
       "    </tr>\n",
       "    <tr>\n",
       "      <th>4</th>\n",
       "      <td>4</td>\n",
       "      <td>Waiting to Exhale (1995)</td>\n",
       "      <td>Comedy</td>\n",
       "      <td>Drama</td>\n",
       "      <td>987</td>\n",
       "      <td>4</td>\n",
       "      <td>975100580</td>\n",
       "    </tr>\n",
       "  </tbody>\n",
       "</table>\n",
       "</div>"
      ],
      "text/plain": [
       "   Movie_id                     Title category 1 category 2  User_id  Ratings  \\\n",
       "0         4  Waiting to Exhale (1995)     Comedy      Drama      187        4   \n",
       "1         4  Waiting to Exhale (1995)     Comedy      Drama      476        5   \n",
       "2         4  Waiting to Exhale (1995)     Comedy      Drama      528        4   \n",
       "3         4  Waiting to Exhale (1995)     Comedy      Drama      601        4   \n",
       "4         4  Waiting to Exhale (1995)     Comedy      Drama      987        4   \n",
       "\n",
       "   Timestamp  \n",
       "0  977078862  \n",
       "1  976223366  \n",
       "2  980039670  \n",
       "3  975881747  \n",
       "4  975100580  "
      ]
     },
     "execution_count": 40,
     "metadata": {},
     "output_type": "execute_result"
    }
   ],
   "source": [
    "#merging two tables to get data of most watched genre with ratings above 3\n",
    "exp = pd.merge(recMovies, top_rated, on='Movie_id') \n",
    "exp.head()"
   ]
  },
  {
   "cell_type": "code",
   "execution_count": 41,
   "metadata": {},
   "outputs": [
    {
     "data": {
      "text/html": [
       "<div>\n",
       "<style scoped>\n",
       "    .dataframe tbody tr th:only-of-type {\n",
       "        vertical-align: middle;\n",
       "    }\n",
       "\n",
       "    .dataframe tbody tr th {\n",
       "        vertical-align: top;\n",
       "    }\n",
       "\n",
       "    .dataframe thead th {\n",
       "        text-align: right;\n",
       "    }\n",
       "</style>\n",
       "<table border=\"1\" class=\"dataframe\">\n",
       "  <thead>\n",
       "    <tr style=\"text-align: right;\">\n",
       "      <th></th>\n",
       "      <th>Title</th>\n",
       "      <th>category 1</th>\n",
       "      <th>category 2</th>\n",
       "      <th>User_id</th>\n",
       "      <th>Ratings</th>\n",
       "      <th>Timestamp</th>\n",
       "    </tr>\n",
       "    <tr>\n",
       "      <th>Movie_id</th>\n",
       "      <th></th>\n",
       "      <th></th>\n",
       "      <th></th>\n",
       "      <th></th>\n",
       "      <th></th>\n",
       "      <th></th>\n",
       "    </tr>\n",
       "  </thead>\n",
       "  <tbody>\n",
       "    <tr>\n",
       "      <th>4</th>\n",
       "      <td>37</td>\n",
       "      <td>37</td>\n",
       "      <td>37</td>\n",
       "      <td>37</td>\n",
       "      <td>37</td>\n",
       "      <td>37</td>\n",
       "    </tr>\n",
       "    <tr>\n",
       "      <th>11</th>\n",
       "      <td>698</td>\n",
       "      <td>698</td>\n",
       "      <td>698</td>\n",
       "      <td>698</td>\n",
       "      <td>698</td>\n",
       "      <td>698</td>\n",
       "    </tr>\n",
       "    <tr>\n",
       "      <th>14</th>\n",
       "      <td>85</td>\n",
       "      <td>85</td>\n",
       "      <td>0</td>\n",
       "      <td>85</td>\n",
       "      <td>85</td>\n",
       "      <td>85</td>\n",
       "    </tr>\n",
       "    <tr>\n",
       "      <th>16</th>\n",
       "      <td>437</td>\n",
       "      <td>437</td>\n",
       "      <td>437</td>\n",
       "      <td>437</td>\n",
       "      <td>437</td>\n",
       "      <td>437</td>\n",
       "    </tr>\n",
       "    <tr>\n",
       "      <th>17</th>\n",
       "      <td>632</td>\n",
       "      <td>632</td>\n",
       "      <td>632</td>\n",
       "      <td>632</td>\n",
       "      <td>632</td>\n",
       "      <td>632</td>\n",
       "    </tr>\n",
       "  </tbody>\n",
       "</table>\n",
       "</div>"
      ],
      "text/plain": [
       "          Title  category 1  category 2  User_id  Ratings  Timestamp\n",
       "Movie_id                                                            \n",
       "4            37          37          37       37       37         37\n",
       "11          698         698         698      698      698        698\n",
       "14           85          85           0       85       85         85\n",
       "16          437         437         437      437      437        437\n",
       "17          632         632         632      632      632        632"
      ]
     },
     "execution_count": 41,
     "metadata": {},
     "output_type": "execute_result"
    }
   ],
   "source": [
    "#grouping data to find how many times the has been rated\n",
    "ratings_count = exp.groupby(['Movie_id']).count()\n",
    "ratings_count.head()"
   ]
  },
  {
   "cell_type": "code",
   "execution_count": 42,
   "metadata": {},
   "outputs": [],
   "source": [
    "#ratings_count.drop(axis=1,columns=['category 1','category 2','Title','User_id','Timestamp'], inplace=True)"
   ]
  },
  {
   "cell_type": "code",
   "execution_count": 43,
   "metadata": {},
   "outputs": [
    {
     "data": {
      "text/html": [
       "<div>\n",
       "<style scoped>\n",
       "    .dataframe tbody tr th:only-of-type {\n",
       "        vertical-align: middle;\n",
       "    }\n",
       "\n",
       "    .dataframe tbody tr th {\n",
       "        vertical-align: top;\n",
       "    }\n",
       "\n",
       "    .dataframe thead th {\n",
       "        text-align: right;\n",
       "    }\n",
       "</style>\n",
       "<table border=\"1\" class=\"dataframe\">\n",
       "  <thead>\n",
       "    <tr style=\"text-align: right;\">\n",
       "      <th></th>\n",
       "      <th>Title</th>\n",
       "      <th>category 1</th>\n",
       "      <th>category 2</th>\n",
       "      <th>User_id</th>\n",
       "      <th>Ratings</th>\n",
       "      <th>Timestamp</th>\n",
       "    </tr>\n",
       "    <tr>\n",
       "      <th>Movie_id</th>\n",
       "      <th></th>\n",
       "      <th></th>\n",
       "      <th></th>\n",
       "      <th></th>\n",
       "      <th></th>\n",
       "      <th></th>\n",
       "    </tr>\n",
       "  </thead>\n",
       "  <tbody>\n",
       "    <tr>\n",
       "      <th>4</th>\n",
       "      <td>37</td>\n",
       "      <td>37</td>\n",
       "      <td>37</td>\n",
       "      <td>37</td>\n",
       "      <td>37</td>\n",
       "      <td>37</td>\n",
       "    </tr>\n",
       "    <tr>\n",
       "      <th>11</th>\n",
       "      <td>698</td>\n",
       "      <td>698</td>\n",
       "      <td>698</td>\n",
       "      <td>698</td>\n",
       "      <td>698</td>\n",
       "      <td>698</td>\n",
       "    </tr>\n",
       "    <tr>\n",
       "      <th>14</th>\n",
       "      <td>85</td>\n",
       "      <td>85</td>\n",
       "      <td>0</td>\n",
       "      <td>85</td>\n",
       "      <td>85</td>\n",
       "      <td>85</td>\n",
       "    </tr>\n",
       "    <tr>\n",
       "      <th>16</th>\n",
       "      <td>437</td>\n",
       "      <td>437</td>\n",
       "      <td>437</td>\n",
       "      <td>437</td>\n",
       "      <td>437</td>\n",
       "      <td>437</td>\n",
       "    </tr>\n",
       "    <tr>\n",
       "      <th>17</th>\n",
       "      <td>632</td>\n",
       "      <td>632</td>\n",
       "      <td>632</td>\n",
       "      <td>632</td>\n",
       "      <td>632</td>\n",
       "      <td>632</td>\n",
       "    </tr>\n",
       "  </tbody>\n",
       "</table>\n",
       "</div>"
      ],
      "text/plain": [
       "          Title  category 1  category 2  User_id  Ratings  Timestamp\n",
       "Movie_id                                                            \n",
       "4            37          37          37       37       37         37\n",
       "11          698         698         698      698      698        698\n",
       "14           85          85           0       85       85         85\n",
       "16          437         437         437      437      437        437\n",
       "17          632         632         632      632      632        632"
      ]
     },
     "execution_count": 43,
     "metadata": {},
     "output_type": "execute_result"
    }
   ],
   "source": [
    "ratings_count.head()"
   ]
  },
  {
   "cell_type": "code",
   "execution_count": 44,
   "metadata": {},
   "outputs": [],
   "source": [
    "#merging the count of ratings to the above data\n",
    "exp1 = pd.merge(exp, ratings_count, on='Movie_id')"
   ]
  },
  {
   "cell_type": "code",
   "execution_count": 45,
   "metadata": {},
   "outputs": [
    {
     "data": {
      "text/html": [
       "<div>\n",
       "<style scoped>\n",
       "    .dataframe tbody tr th:only-of-type {\n",
       "        vertical-align: middle;\n",
       "    }\n",
       "\n",
       "    .dataframe tbody tr th {\n",
       "        vertical-align: top;\n",
       "    }\n",
       "\n",
       "    .dataframe thead th {\n",
       "        text-align: right;\n",
       "    }\n",
       "</style>\n",
       "<table border=\"1\" class=\"dataframe\">\n",
       "  <thead>\n",
       "    <tr style=\"text-align: right;\">\n",
       "      <th></th>\n",
       "      <th>Movie_id</th>\n",
       "      <th>Title_x</th>\n",
       "      <th>category 1_x</th>\n",
       "      <th>category 2_x</th>\n",
       "      <th>User_id_x</th>\n",
       "      <th>Ratings_x</th>\n",
       "      <th>Timestamp_x</th>\n",
       "      <th>Title_y</th>\n",
       "      <th>category 1_y</th>\n",
       "      <th>category 2_y</th>\n",
       "      <th>User_id_y</th>\n",
       "      <th>Ratings_y</th>\n",
       "      <th>Timestamp_y</th>\n",
       "    </tr>\n",
       "  </thead>\n",
       "  <tbody>\n",
       "    <tr>\n",
       "      <th>0</th>\n",
       "      <td>4</td>\n",
       "      <td>Waiting to Exhale (1995)</td>\n",
       "      <td>Comedy</td>\n",
       "      <td>Drama</td>\n",
       "      <td>187</td>\n",
       "      <td>4</td>\n",
       "      <td>977078862</td>\n",
       "      <td>37</td>\n",
       "      <td>37</td>\n",
       "      <td>37</td>\n",
       "      <td>37</td>\n",
       "      <td>37</td>\n",
       "      <td>37</td>\n",
       "    </tr>\n",
       "    <tr>\n",
       "      <th>1</th>\n",
       "      <td>4</td>\n",
       "      <td>Waiting to Exhale (1995)</td>\n",
       "      <td>Comedy</td>\n",
       "      <td>Drama</td>\n",
       "      <td>476</td>\n",
       "      <td>5</td>\n",
       "      <td>976223366</td>\n",
       "      <td>37</td>\n",
       "      <td>37</td>\n",
       "      <td>37</td>\n",
       "      <td>37</td>\n",
       "      <td>37</td>\n",
       "      <td>37</td>\n",
       "    </tr>\n",
       "    <tr>\n",
       "      <th>2</th>\n",
       "      <td>4</td>\n",
       "      <td>Waiting to Exhale (1995)</td>\n",
       "      <td>Comedy</td>\n",
       "      <td>Drama</td>\n",
       "      <td>528</td>\n",
       "      <td>4</td>\n",
       "      <td>980039670</td>\n",
       "      <td>37</td>\n",
       "      <td>37</td>\n",
       "      <td>37</td>\n",
       "      <td>37</td>\n",
       "      <td>37</td>\n",
       "      <td>37</td>\n",
       "    </tr>\n",
       "    <tr>\n",
       "      <th>3</th>\n",
       "      <td>4</td>\n",
       "      <td>Waiting to Exhale (1995)</td>\n",
       "      <td>Comedy</td>\n",
       "      <td>Drama</td>\n",
       "      <td>601</td>\n",
       "      <td>4</td>\n",
       "      <td>975881747</td>\n",
       "      <td>37</td>\n",
       "      <td>37</td>\n",
       "      <td>37</td>\n",
       "      <td>37</td>\n",
       "      <td>37</td>\n",
       "      <td>37</td>\n",
       "    </tr>\n",
       "    <tr>\n",
       "      <th>4</th>\n",
       "      <td>4</td>\n",
       "      <td>Waiting to Exhale (1995)</td>\n",
       "      <td>Comedy</td>\n",
       "      <td>Drama</td>\n",
       "      <td>987</td>\n",
       "      <td>4</td>\n",
       "      <td>975100580</td>\n",
       "      <td>37</td>\n",
       "      <td>37</td>\n",
       "      <td>37</td>\n",
       "      <td>37</td>\n",
       "      <td>37</td>\n",
       "      <td>37</td>\n",
       "    </tr>\n",
       "  </tbody>\n",
       "</table>\n",
       "</div>"
      ],
      "text/plain": [
       "   Movie_id                   Title_x category 1_x category 2_x  User_id_x  \\\n",
       "0         4  Waiting to Exhale (1995)       Comedy        Drama        187   \n",
       "1         4  Waiting to Exhale (1995)       Comedy        Drama        476   \n",
       "2         4  Waiting to Exhale (1995)       Comedy        Drama        528   \n",
       "3         4  Waiting to Exhale (1995)       Comedy        Drama        601   \n",
       "4         4  Waiting to Exhale (1995)       Comedy        Drama        987   \n",
       "\n",
       "   Ratings_x  Timestamp_x  Title_y  category 1_y  category 2_y  User_id_y  \\\n",
       "0          4    977078862       37            37            37         37   \n",
       "1          5    976223366       37            37            37         37   \n",
       "2          4    980039670       37            37            37         37   \n",
       "3          4    975881747       37            37            37         37   \n",
       "4          4    975100580       37            37            37         37   \n",
       "\n",
       "   Ratings_y  Timestamp_y  \n",
       "0         37           37  \n",
       "1         37           37  \n",
       "2         37           37  \n",
       "3         37           37  \n",
       "4         37           37  "
      ]
     },
     "execution_count": 45,
     "metadata": {},
     "output_type": "execute_result"
    }
   ],
   "source": [
    "exp1.head()"
   ]
  },
  {
   "cell_type": "code",
   "execution_count": 46,
   "metadata": {},
   "outputs": [],
   "source": [
    "exp1 = exp1.rename(columns={\"Ratings_x\": \"Ratings\", \"Ratings_y\": \"Ratings_count\"})"
   ]
  },
  {
   "cell_type": "code",
   "execution_count": 47,
   "metadata": {},
   "outputs": [
    {
     "data": {
      "text/html": [
       "<div>\n",
       "<style scoped>\n",
       "    .dataframe tbody tr th:only-of-type {\n",
       "        vertical-align: middle;\n",
       "    }\n",
       "\n",
       "    .dataframe tbody tr th {\n",
       "        vertical-align: top;\n",
       "    }\n",
       "\n",
       "    .dataframe thead th {\n",
       "        text-align: right;\n",
       "    }\n",
       "</style>\n",
       "<table border=\"1\" class=\"dataframe\">\n",
       "  <thead>\n",
       "    <tr style=\"text-align: right;\">\n",
       "      <th></th>\n",
       "      <th>Movie_id</th>\n",
       "      <th>Title_x</th>\n",
       "      <th>category 1_x</th>\n",
       "      <th>category 2_x</th>\n",
       "      <th>User_id_x</th>\n",
       "      <th>Ratings</th>\n",
       "      <th>Timestamp_x</th>\n",
       "      <th>Title_y</th>\n",
       "      <th>category 1_y</th>\n",
       "      <th>category 2_y</th>\n",
       "      <th>User_id_y</th>\n",
       "      <th>Ratings_count</th>\n",
       "      <th>Timestamp_y</th>\n",
       "    </tr>\n",
       "  </thead>\n",
       "  <tbody>\n",
       "    <tr>\n",
       "      <th>0</th>\n",
       "      <td>4</td>\n",
       "      <td>Waiting to Exhale (1995)</td>\n",
       "      <td>Comedy</td>\n",
       "      <td>Drama</td>\n",
       "      <td>187</td>\n",
       "      <td>4</td>\n",
       "      <td>977078862</td>\n",
       "      <td>37</td>\n",
       "      <td>37</td>\n",
       "      <td>37</td>\n",
       "      <td>37</td>\n",
       "      <td>37</td>\n",
       "      <td>37</td>\n",
       "    </tr>\n",
       "    <tr>\n",
       "      <th>37</th>\n",
       "      <td>11</td>\n",
       "      <td>American President, The (1995)</td>\n",
       "      <td>Comedy</td>\n",
       "      <td>Drama</td>\n",
       "      <td>34</td>\n",
       "      <td>4</td>\n",
       "      <td>978103264</td>\n",
       "      <td>698</td>\n",
       "      <td>698</td>\n",
       "      <td>698</td>\n",
       "      <td>698</td>\n",
       "      <td>698</td>\n",
       "      <td>698</td>\n",
       "    </tr>\n",
       "    <tr>\n",
       "      <th>735</th>\n",
       "      <td>14</td>\n",
       "      <td>Nixon (1995)</td>\n",
       "      <td>Drama</td>\n",
       "      <td>None</td>\n",
       "      <td>8</td>\n",
       "      <td>4</td>\n",
       "      <td>978230756</td>\n",
       "      <td>85</td>\n",
       "      <td>85</td>\n",
       "      <td>0</td>\n",
       "      <td>85</td>\n",
       "      <td>85</td>\n",
       "      <td>85</td>\n",
       "    </tr>\n",
       "    <tr>\n",
       "      <th>820</th>\n",
       "      <td>16</td>\n",
       "      <td>Casino (1995)</td>\n",
       "      <td>Drama</td>\n",
       "      <td>Thriller</td>\n",
       "      <td>8</td>\n",
       "      <td>4</td>\n",
       "      <td>978230095</td>\n",
       "      <td>437</td>\n",
       "      <td>437</td>\n",
       "      <td>437</td>\n",
       "      <td>437</td>\n",
       "      <td>437</td>\n",
       "      <td>437</td>\n",
       "    </tr>\n",
       "    <tr>\n",
       "      <th>1257</th>\n",
       "      <td>17</td>\n",
       "      <td>Sense and Sensibility (1995)</td>\n",
       "      <td>Drama</td>\n",
       "      <td>Romance</td>\n",
       "      <td>6</td>\n",
       "      <td>4</td>\n",
       "      <td>978236383</td>\n",
       "      <td>632</td>\n",
       "      <td>632</td>\n",
       "      <td>632</td>\n",
       "      <td>632</td>\n",
       "      <td>632</td>\n",
       "      <td>632</td>\n",
       "    </tr>\n",
       "  </tbody>\n",
       "</table>\n",
       "</div>"
      ],
      "text/plain": [
       "      Movie_id                         Title_x category 1_x category 2_x  \\\n",
       "0            4        Waiting to Exhale (1995)       Comedy        Drama   \n",
       "37          11  American President, The (1995)       Comedy        Drama   \n",
       "735         14                    Nixon (1995)        Drama         None   \n",
       "820         16                   Casino (1995)        Drama     Thriller   \n",
       "1257        17    Sense and Sensibility (1995)        Drama      Romance   \n",
       "\n",
       "      User_id_x  Ratings  Timestamp_x  Title_y  category 1_y  category 2_y  \\\n",
       "0           187        4    977078862       37            37            37   \n",
       "37           34        4    978103264      698           698           698   \n",
       "735           8        4    978230756       85            85             0   \n",
       "820           8        4    978230095      437           437           437   \n",
       "1257          6        4    978236383      632           632           632   \n",
       "\n",
       "      User_id_y  Ratings_count  Timestamp_y  \n",
       "0            37             37           37  \n",
       "37          698            698          698  \n",
       "735          85             85           85  \n",
       "820         437            437          437  \n",
       "1257        632            632          632  "
      ]
     },
     "execution_count": 47,
     "metadata": {},
     "output_type": "execute_result"
    }
   ],
   "source": [
    "#removing the duplicates on the basis of movie id\n",
    "exp1 = exp1.drop_duplicates(subset='Movie_id')\n",
    "exp1.head()"
   ]
  },
  {
   "cell_type": "code",
   "execution_count": 48,
   "metadata": {},
   "outputs": [
    {
     "name": "stdout",
     "output_type": "stream",
     "text": [
      "4.339912280701754\n"
     ]
    }
   ],
   "source": [
    "#finding the average rating of all movies\n",
    "C = exp1['Ratings'].mean()\n",
    "print(C)"
   ]
  },
  {
   "cell_type": "code",
   "execution_count": 49,
   "metadata": {},
   "outputs": [
    {
     "name": "stdout",
     "output_type": "stream",
     "text": [
      "414.29999999999995\n"
     ]
    }
   ],
   "source": [
    "#find quantile of count of ratings\n",
    "m = exp1['Ratings_count'].quantile(0.90)\n",
    "print(m)"
   ]
  },
  {
   "cell_type": "code",
   "execution_count": 50,
   "metadata": {},
   "outputs": [
    {
     "data": {
      "text/plain": [
       "(137, 13)"
      ]
     },
     "execution_count": 50,
     "metadata": {},
     "output_type": "execute_result"
    }
   ],
   "source": [
    "q_movies = exp1.copy().loc[exp1['Ratings_count'] >= m]\n",
    "q_movies.shape"
   ]
  },
  {
   "cell_type": "code",
   "execution_count": 51,
   "metadata": {},
   "outputs": [
    {
     "data": {
      "text/html": [
       "<div>\n",
       "<style scoped>\n",
       "    .dataframe tbody tr th:only-of-type {\n",
       "        vertical-align: middle;\n",
       "    }\n",
       "\n",
       "    .dataframe tbody tr th {\n",
       "        vertical-align: top;\n",
       "    }\n",
       "\n",
       "    .dataframe thead th {\n",
       "        text-align: right;\n",
       "    }\n",
       "</style>\n",
       "<table border=\"1\" class=\"dataframe\">\n",
       "  <thead>\n",
       "    <tr style=\"text-align: right;\">\n",
       "      <th></th>\n",
       "      <th>Movie_id</th>\n",
       "      <th>Title_x</th>\n",
       "      <th>category 1_x</th>\n",
       "      <th>category 2_x</th>\n",
       "      <th>User_id_x</th>\n",
       "      <th>Ratings</th>\n",
       "      <th>Timestamp_x</th>\n",
       "      <th>Title_y</th>\n",
       "      <th>category 1_y</th>\n",
       "      <th>category 2_y</th>\n",
       "      <th>User_id_y</th>\n",
       "      <th>Ratings_count</th>\n",
       "      <th>Timestamp_y</th>\n",
       "    </tr>\n",
       "  </thead>\n",
       "  <tbody>\n",
       "    <tr>\n",
       "      <th>37</th>\n",
       "      <td>11</td>\n",
       "      <td>American President, The (1995)</td>\n",
       "      <td>Comedy</td>\n",
       "      <td>Drama</td>\n",
       "      <td>34</td>\n",
       "      <td>4</td>\n",
       "      <td>978103264</td>\n",
       "      <td>698</td>\n",
       "      <td>698</td>\n",
       "      <td>698</td>\n",
       "      <td>698</td>\n",
       "      <td>698</td>\n",
       "      <td>698</td>\n",
       "    </tr>\n",
       "    <tr>\n",
       "      <th>820</th>\n",
       "      <td>16</td>\n",
       "      <td>Casino (1995)</td>\n",
       "      <td>Drama</td>\n",
       "      <td>Thriller</td>\n",
       "      <td>8</td>\n",
       "      <td>4</td>\n",
       "      <td>978230095</td>\n",
       "      <td>437</td>\n",
       "      <td>437</td>\n",
       "      <td>437</td>\n",
       "      <td>437</td>\n",
       "      <td>437</td>\n",
       "      <td>437</td>\n",
       "    </tr>\n",
       "    <tr>\n",
       "      <th>1257</th>\n",
       "      <td>17</td>\n",
       "      <td>Sense and Sensibility (1995)</td>\n",
       "      <td>Drama</td>\n",
       "      <td>Romance</td>\n",
       "      <td>6</td>\n",
       "      <td>4</td>\n",
       "      <td>978236383</td>\n",
       "      <td>632</td>\n",
       "      <td>632</td>\n",
       "      <td>632</td>\n",
       "      <td>632</td>\n",
       "      <td>632</td>\n",
       "      <td>632</td>\n",
       "    </tr>\n",
       "    <tr>\n",
       "      <th>2316</th>\n",
       "      <td>25</td>\n",
       "      <td>Leaving Las Vegas (1995)</td>\n",
       "      <td>Drama</td>\n",
       "      <td>Romance</td>\n",
       "      <td>8</td>\n",
       "      <td>5</td>\n",
       "      <td>978229477</td>\n",
       "      <td>603</td>\n",
       "      <td>603</td>\n",
       "      <td>603</td>\n",
       "      <td>603</td>\n",
       "      <td>603</td>\n",
       "      <td>603</td>\n",
       "    </tr>\n",
       "    <tr>\n",
       "      <th>3077</th>\n",
       "      <td>32</td>\n",
       "      <td>Twelve Monkeys (1995)</td>\n",
       "      <td>Drama</td>\n",
       "      <td>Sci-Fi</td>\n",
       "      <td>5</td>\n",
       "      <td>4</td>\n",
       "      <td>978244962</td>\n",
       "      <td>1083</td>\n",
       "      <td>1083</td>\n",
       "      <td>1083</td>\n",
       "      <td>1083</td>\n",
       "      <td>1083</td>\n",
       "      <td>1083</td>\n",
       "    </tr>\n",
       "  </tbody>\n",
       "</table>\n",
       "</div>"
      ],
      "text/plain": [
       "      Movie_id                         Title_x category 1_x category 2_x  \\\n",
       "37          11  American President, The (1995)       Comedy        Drama   \n",
       "820         16                   Casino (1995)        Drama     Thriller   \n",
       "1257        17    Sense and Sensibility (1995)        Drama      Romance   \n",
       "2316        25        Leaving Las Vegas (1995)        Drama      Romance   \n",
       "3077        32           Twelve Monkeys (1995)        Drama       Sci-Fi   \n",
       "\n",
       "      User_id_x  Ratings  Timestamp_x  Title_y  category 1_y  category 2_y  \\\n",
       "37           34        4    978103264      698           698           698   \n",
       "820           8        4    978230095      437           437           437   \n",
       "1257          6        4    978236383      632           632           632   \n",
       "2316          8        5    978229477      603           603           603   \n",
       "3077          5        4    978244962     1083          1083          1083   \n",
       "\n",
       "      User_id_y  Ratings_count  Timestamp_y  \n",
       "37          698            698          698  \n",
       "820         437            437          437  \n",
       "1257        632            632          632  \n",
       "2316        603            603          603  \n",
       "3077       1083           1083         1083  "
      ]
     },
     "execution_count": 51,
     "metadata": {},
     "output_type": "execute_result"
    }
   ],
   "source": [
    "q_movies.head()"
   ]
  },
  {
   "cell_type": "code",
   "execution_count": 52,
   "metadata": {},
   "outputs": [],
   "source": [
    "def weighted_rating(exp1, m=m, C=C):\n",
    "    v = exp1['Ratings_count']\n",
    "    R = exp1['Ratings']\n",
    "    # Calculation based on the IMDB formula\n",
    "    return (v/(v+m) * R) + (m/(m+v) * C)"
   ]
  },
  {
   "cell_type": "code",
   "execution_count": 53,
   "metadata": {},
   "outputs": [],
   "source": [
    "q_movies['Score'] = q_movies.apply(weighted_rating, axis=1)"
   ]
  },
  {
   "cell_type": "code",
   "execution_count": 54,
   "metadata": {},
   "outputs": [],
   "source": [
    "q_movies = q_movies.sort_values('Score', ascending=False)\n",
    "#q_movies[['Movie_id','Title','Ratings_count', 'Ratings', 'score','category 1','category 2']]"
   ]
  },
  {
   "cell_type": "code",
   "execution_count": 55,
   "metadata": {},
   "outputs": [],
   "source": [
    "#q_movies.drop(axis=1,columns=['User_id','Timestamp'], inplace=True)"
   ]
  },
  {
   "cell_type": "code",
   "execution_count": 56,
   "metadata": {},
   "outputs": [
    {
     "data": {
      "text/html": [
       "<div>\n",
       "<style scoped>\n",
       "    .dataframe tbody tr th:only-of-type {\n",
       "        vertical-align: middle;\n",
       "    }\n",
       "\n",
       "    .dataframe tbody tr th {\n",
       "        vertical-align: top;\n",
       "    }\n",
       "\n",
       "    .dataframe thead th {\n",
       "        text-align: right;\n",
       "    }\n",
       "</style>\n",
       "<table border=\"1\" class=\"dataframe\">\n",
       "  <thead>\n",
       "    <tr style=\"text-align: right;\">\n",
       "      <th></th>\n",
       "      <th>Movie_id</th>\n",
       "      <th>Title_x</th>\n",
       "      <th>category 1_x</th>\n",
       "      <th>category 2_x</th>\n",
       "      <th>User_id_x</th>\n",
       "      <th>Ratings</th>\n",
       "      <th>Timestamp_x</th>\n",
       "      <th>Title_y</th>\n",
       "      <th>category 1_y</th>\n",
       "      <th>category 2_y</th>\n",
       "      <th>User_id_y</th>\n",
       "      <th>Ratings_count</th>\n",
       "      <th>Timestamp_y</th>\n",
       "      <th>Score</th>\n",
       "    </tr>\n",
       "  </thead>\n",
       "  <tbody>\n",
       "    <tr>\n",
       "      <th>124702</th>\n",
       "      <td>2028</td>\n",
       "      <td>Saving Private Ryan (1998)</td>\n",
       "      <td>Action</td>\n",
       "      <td>Drama</td>\n",
       "      <td>1</td>\n",
       "      <td>5</td>\n",
       "      <td>978301619</td>\n",
       "      <td>2260</td>\n",
       "      <td>2260</td>\n",
       "      <td>2260</td>\n",
       "      <td>2260</td>\n",
       "      <td>2260</td>\n",
       "      <td>2260</td>\n",
       "      <td>4.897740</td>\n",
       "    </tr>\n",
       "    <tr>\n",
       "      <th>37095</th>\n",
       "      <td>593</td>\n",
       "      <td>Silence of the Lambs, The (1991)</td>\n",
       "      <td>Drama</td>\n",
       "      <td>Thriller</td>\n",
       "      <td>2</td>\n",
       "      <td>5</td>\n",
       "      <td>978298517</td>\n",
       "      <td>2252</td>\n",
       "      <td>2252</td>\n",
       "      <td>2252</td>\n",
       "      <td>2252</td>\n",
       "      <td>2252</td>\n",
       "      <td>2252</td>\n",
       "      <td>4.897433</td>\n",
       "    </tr>\n",
       "    <tr>\n",
       "      <th>32005</th>\n",
       "      <td>527</td>\n",
       "      <td>Schindler's List (1993)</td>\n",
       "      <td>Drama</td>\n",
       "      <td>War</td>\n",
       "      <td>1</td>\n",
       "      <td>5</td>\n",
       "      <td>978824195</td>\n",
       "      <td>2071</td>\n",
       "      <td>2071</td>\n",
       "      <td>2071</td>\n",
       "      <td>2071</td>\n",
       "      <td>2071</td>\n",
       "      <td>2071</td>\n",
       "      <td>4.889963</td>\n",
       "    </tr>\n",
       "    <tr>\n",
       "      <th>22890</th>\n",
       "      <td>318</td>\n",
       "      <td>Shawshank Redemption, The (1994)</td>\n",
       "      <td>Drama</td>\n",
       "      <td>None</td>\n",
       "      <td>2</td>\n",
       "      <td>5</td>\n",
       "      <td>978298413</td>\n",
       "      <td>2046</td>\n",
       "      <td>2046</td>\n",
       "      <td>0</td>\n",
       "      <td>2046</td>\n",
       "      <td>2046</td>\n",
       "      <td>2046</td>\n",
       "      <td>4.888845</td>\n",
       "    </tr>\n",
       "    <tr>\n",
       "      <th>7383</th>\n",
       "      <td>110</td>\n",
       "      <td>Braveheart (1995)</td>\n",
       "      <td>Action</td>\n",
       "      <td>Drama</td>\n",
       "      <td>2</td>\n",
       "      <td>5</td>\n",
       "      <td>978298625</td>\n",
       "      <td>1977</td>\n",
       "      <td>1977</td>\n",
       "      <td>1977</td>\n",
       "      <td>1977</td>\n",
       "      <td>1977</td>\n",
       "      <td>1977</td>\n",
       "      <td>4.885638</td>\n",
       "    </tr>\n",
       "  </tbody>\n",
       "</table>\n",
       "</div>"
      ],
      "text/plain": [
       "        Movie_id                           Title_x category 1_x category 2_x  \\\n",
       "124702      2028        Saving Private Ryan (1998)       Action        Drama   \n",
       "37095        593  Silence of the Lambs, The (1991)        Drama     Thriller   \n",
       "32005        527           Schindler's List (1993)        Drama          War   \n",
       "22890        318  Shawshank Redemption, The (1994)        Drama         None   \n",
       "7383         110                 Braveheart (1995)       Action        Drama   \n",
       "\n",
       "        User_id_x  Ratings  Timestamp_x  Title_y  category 1_y  category 2_y  \\\n",
       "124702          1        5    978301619     2260          2260          2260   \n",
       "37095           2        5    978298517     2252          2252          2252   \n",
       "32005           1        5    978824195     2071          2071          2071   \n",
       "22890           2        5    978298413     2046          2046             0   \n",
       "7383            2        5    978298625     1977          1977          1977   \n",
       "\n",
       "        User_id_y  Ratings_count  Timestamp_y     Score  \n",
       "124702       2260           2260         2260  4.897740  \n",
       "37095        2252           2252         2252  4.897433  \n",
       "32005        2071           2071         2071  4.889963  \n",
       "22890        2046           2046         2046  4.888845  \n",
       "7383         1977           1977         1977  4.885638  "
      ]
     },
     "execution_count": 56,
     "metadata": {},
     "output_type": "execute_result"
    }
   ],
   "source": [
    "#finally the rcommended movies \n",
    "q_movies.head()"
   ]
  },
  {
   "cell_type": "code",
   "execution_count": null,
   "metadata": {},
   "outputs": [],
   "source": []
  },
  {
   "cell_type": "code",
   "execution_count": null,
   "metadata": {},
   "outputs": [],
   "source": []
  }
 ],
 "metadata": {
  "kernelspec": {
   "display_name": "Python 3",
   "language": "python",
   "name": "python3"
  },
  "language_info": {
   "codemirror_mode": {
    "name": "ipython",
    "version": 3
   },
   "file_extension": ".py",
   "mimetype": "text/x-python",
   "name": "python",
   "nbconvert_exporter": "python",
   "pygments_lexer": "ipython3",
   "version": "3.7.3"
  }
 },
 "nbformat": 4,
 "nbformat_minor": 2
}
